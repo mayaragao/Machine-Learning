{
 "cells": [
  {
   "cell_type": "markdown",
   "metadata": {},
   "source": [
    "# Relatório Trabalho 2"
   ]
  },
  {
   "cell_type": "markdown",
   "metadata": {},
   "source": [
    "### Aluna: Mayara Azevedo Aragão\n",
    "### DRE:   115060969\n",
    "\n",
    "\n",
    "Avaliação da disciplina EEL891 (Introdução ao Aprendizado de Máquina) no semestre 2020.01.\n",
    "Escolhi implementar o algoritmo de Regressão para estimativa de preço de imóvel. \n"
   ]
  },
  {
   "cell_type": "code",
   "execution_count": 1,
   "metadata": {},
   "outputs": [],
   "source": [
    "# Bibliotecas utilizadas na construção do algoritmo:\n",
    "\n",
    "from sklearn.preprocessing import LabelBinarizer, LabelEncoder\n",
    "from sklearn.model_selection import train_test_split, cross_val_score\n",
    "from sklearn.preprocessing import StandardScaler, PolynomialFeatures, RobustScaler, QuantileTransformer\n",
    "from sklearn.neighbors import KNeighborsRegressor\n",
    "from sklearn.linear_model import LinearRegression, SGDRegressor\n",
    "from sklearn.metrics import mean_squared_error, r2_score, median_absolute_error, mean_squared_log_error\n",
    "from sklearn.linear_model import Ridge, Lasso\n",
    "from sklearn.experimental import enable_hist_gradient_boosting\n",
    "from sklearn.ensemble import RandomForestRegressor, AdaBoostRegressor, HistGradientBoostingRegressor"
   ]
  },
  {
   "cell_type": "markdown",
   "metadata": {},
   "source": [
    "Inicialmente é necessário importar o dataframe de treinamento e o de teste dados a serem treinados e testados, para elaborar uma análise dos dados que são fornecidos."
   ]
  },
  {
   "cell_type": "code",
   "execution_count": 3,
   "metadata": {},
   "outputs": [],
   "source": [
    "import pandas as pd\n",
    "import numpy as np\n",
    "import math\n",
    "import matplotlib.pyplot as plt\n",
    "%matplotlib inline  \n",
    "from scipy.stats import pearsonr\n",
    "import seaborn as sns\n",
    "\n",
    "dados_TREINO = pd.read_csv(\"conjunto_de_treinamento.csv\")\n",
    "dados_TESTE = pd.read_csv(\"conjunto_de_teste.csv\")\n",
    "\n",
    "dados = dados_TREINO\n",
    "dados_teste = dados_TESTE\n"
   ]
  },
  {
   "cell_type": "markdown",
   "metadata": {},
   "source": [
    "Analisando as colunas do dataframe que estão com dados não numéricos:"
   ]
  },
  {
   "cell_type": "code",
   "execution_count": 4,
   "metadata": {},
   "outputs": [
    {
     "name": "stdout",
     "output_type": "stream",
     "text": [
      "\n",
      "Colunas do conjunto de treinamento:\n",
      " Index(['Id', 'tipo', 'bairro', 'tipo_vendedor', 'quartos', 'suites', 'vagas',\n",
      "       'area_util', 'area_extra', 'diferenciais', 'churrasqueira',\n",
      "       'estacionamento', 'piscina', 'playground', 'quadra', 's_festas',\n",
      "       's_jogos', 's_ginastica', 'sauna', 'vista_mar', 'preco'],\n",
      "      dtype='object')\n",
      "\n",
      "'tipo':\n",
      " Apartamento    4501\n",
      "Casa            177\n",
      "Loft              3\n",
      "Quitinete         2\n",
      "Name: tipo, dtype: int64\n",
      "\n",
      "'tipo' - Conjunto TESTE:\n",
      " Apartamento    1924\n",
      "Casa             75\n",
      "Loft              1\n",
      "Name: tipo, dtype: int64\n",
      "\n",
      "'tipo_vendedor':\n",
      " Imobiliaria      4556\n",
      "Pessoa Fisica     127\n",
      "Name: tipo_vendedor, dtype: int64\n",
      "\n",
      "'tipo_vendedor'- Conjunto TESTE:\n",
      " Imobiliaria      1958\n",
      "Pessoa Fisica      42\n",
      "Name: tipo_vendedor, dtype: int64\n"
     ]
    }
   ],
   "source": [
    "colunas = dados.columns\n",
    "print('\\nColunas do conjunto de treinamento:\\n', colunas)\n",
    "\n",
    "print(\"\\n'tipo':\\n\", dados['tipo'].value_counts())\n",
    "print(\"\\n'tipo' - Conjunto TESTE:\\n\", dados_teste['tipo'].value_counts())\n",
    "\n",
    "print(\"\\n'tipo_vendedor':\\n\", dados['tipo_vendedor'].value_counts())\n",
    "print(\"\\n'tipo_vendedor'- Conjunto TESTE:\\n\", dados_teste['tipo_vendedor'].value_counts())"
   ]
  },
  {
   "cell_type": "markdown",
   "metadata": {},
   "source": [
    "Percebemos que é possivel codificar as variaveis 'tipo' e 'tipo_vendedor'.\n",
    "\n",
    "No caso, a variavel 'tipo_vendedor' pode ser tratada com um binarizador (LabelBinarizer) e a variavel 'tipo' com one-hot-encoding. Inicialmente, eu havia feito um mapeamento da categoria 'tipo', para valores de 1 a 4, pois é a cardinalidade dessa variável no conjunto de treinamento. Mas aperfeiçoando o modelo, utilizando one-hot-encoding obtive melhores resultados, portanto:"
   ]
  },
  {
   "cell_type": "code",
   "execution_count": 5,
   "metadata": {},
   "outputs": [
    {
     "name": "stdout",
     "output_type": "stream",
     "text": [
      "\n",
      "'tipo_vendedor':\n",
      " 0    4556\n",
      "1     127\n",
      "Name: tipo_vendedor, dtype: int64\n"
     ]
    }
   ],
   "source": [
    "# Aplicando binarização na variavel \"tipo_vendedor\"\n",
    "\n",
    "binarizador = LabelBinarizer()\n",
    "\n",
    "for t in ['tipo_vendedor']:\n",
    "    dados[t] = binarizador.fit_transform(dados[t])\n",
    "    dados_teste[t] = binarizador.fit_transform(dados_teste[t])\n",
    "    \n",
    "print(\"\\n'tipo_vendedor':\\n\", dados['tipo_vendedor'].value_counts())"
   ]
  },
  {
   "cell_type": "markdown",
   "metadata": {},
   "source": [
    "Analisando o 'tipo' dos imóveis que estão disponíveis no conjunto de teste, é possivel perceber que há poucas ocorrências para o 'tipo' = 'Loft', e nenhuma ocorrencia para o 'tipo'='Quitinete' que aparece poucas vezes no conjunto de treino.\n",
    "Portanto, ao fazer o one-hot-encoding, vou excluir do cálculo as colunas onde o 'tipo' do imovel seria 'Loft' ou 'Quitinete', e também excluir do conjunto de treinamento os dados com essas ocorrências, pois atrapalharam os resultados:"
   ]
  },
  {
   "cell_type": "code",
   "execution_count": 6,
   "metadata": {},
   "outputs": [],
   "source": [
    "# Codificando o tipo do imovel com one-hot-encoding\n",
    "\n",
    "dados = pd.get_dummies(dados, columns=['tipo'])\n",
    "dados = dados[dados['tipo_Quitinete']==0]\n",
    "# Excluindo a coluna 'tipo_Quitinete'\n",
    "dados = dados.drop(['tipo_Quitinete'], axis=1)\n",
    "\n",
    "dados = dados[dados['tipo_Loft']==0]\n",
    "# Excluindo a coluna 'tipo_Loft'\n",
    "dados = dados.drop(['tipo_Loft'], axis=1)\n",
    "\n",
    "dados_teste = pd.get_dummies(dados_teste, columns=['tipo'])\n",
    "# Excluindo a coluna 'tipo_Loft' do conjunto de teste\n",
    "dados_teste = dados_teste.drop(['tipo_Loft'], axis=1)"
   ]
  },
  {
   "cell_type": "markdown",
   "metadata": {},
   "source": [
    "Analisando as variaveis 'bairro' e 'diferenciais', percebemos que ambas tem cardinalidade alta:\n"
   ]
  },
  {
   "cell_type": "code",
   "execution_count": 7,
   "metadata": {},
   "outputs": [
    {
     "name": "stdout",
     "output_type": "stream",
     "text": [
      "\n",
      "Para contabilizar a cardinalidade das variaveis:\n",
      "\n",
      "Cardinalidade de'bairro': 66\n",
      "Cardinalidade de'diferenciais': 83\n"
     ]
    }
   ],
   "source": [
    "print('\\nPara contabilizar a cardinalidade das variaveis:\\n')\n",
    "print(\"Cardinalidade de'bairro':\",len(dados['bairro'].unique().tolist()))\n",
    "print(\"Cardinalidade de'diferenciais':\",len(dados['diferenciais'].unique().tolist()))"
   ]
  },
  {
   "cell_type": "markdown",
   "metadata": {},
   "source": [
    "Contudo, na coluna 'diferenciais', estão as informações já dispostas ao lado nas colunas como 'piscina', 'churrasqueira', 'estacionamento', 'sauna' etc. Portanto, decidi alterar essa variável para um valor numérico que é a soma de algumas dessas variáveis já disponiveis no dataframe:\n",
    "\n",
    "Após alguns testes, decidi retirar do calculo dos diferenciais as variaveis 'piscina' pois já é utilizada no cálculo da regressão:"
   ]
  },
  {
   "cell_type": "code",
   "execution_count": 8,
   "metadata": {},
   "outputs": [
    {
     "name": "stdout",
     "output_type": "stream",
     "text": [
      "Variavel 'diferenciais' após o ajuste: [0, 1, 2]\n"
     ]
    }
   ],
   "source": [
    "dados['diferenciais'] = (dados['churrasqueira'] +  dados['playground'] + dados['s_jogos'] + dados['quadra'] +\n",
    "                        dados['sauna']+dados['s_ginastica']+dados['s_festas'])\n",
    "\n",
    "dados_teste['diferenciais'] =   (dados_teste['churrasqueira'] +  dados_teste['playground'] + dados_teste['s_jogos'] +\n",
    "                                dados_teste['quadra'] + dados_teste['sauna'] + dados_teste['s_ginastica']  +\n",
    "                                dados_teste['s_festas'])\n",
    "\n",
    "print(\"Variavel 'diferenciais' após o ajuste:\",dados['diferenciais'].unique().tolist())"
   ]
  },
  {
   "cell_type": "markdown",
   "metadata": {},
   "source": [
    "Agora, foi necessário aplicar uma transformação nos dados de 'bairro', para relacionar essa categoria com os dados, para isso, utilizei a função LabelEncoder e apliquei uma normalização nos dados:"
   ]
  },
  {
   "cell_type": "code",
   "execution_count": 9,
   "metadata": {},
   "outputs": [],
   "source": [
    "label_encoder = LabelEncoder()\n",
    "dados['bairro'] = label_encoder.fit_transform(dados['bairro'])\n",
    "dados_teste['bairro'] = label_encoder.fit_transform(dados_teste['bairro'])\n",
    "\n",
    "# Normalizando dados do LabelEncoder\n",
    "mean = dados['bairro'].mean()\n",
    "std = dados['bairro'].std()\n",
    "dados['bairro'] = (dados['bairro'] - mean) / std\n",
    "\n",
    "\n",
    "mean = dados_teste['bairro'].mean()\n",
    "std = dados_teste['bairro'].std()\n",
    "dados_teste['bairro'] = (dados['bairro'] - mean) / std"
   ]
  },
  {
   "cell_type": "markdown",
   "metadata": {},
   "source": [
    "Como todas as categorias estão com valores numéricos, analisei o Coeficiente de Pearson para identificar as colunas que possuem maior relação com o alvo, que no caso é o preco do imovel:"
   ]
  },
  {
   "cell_type": "code",
   "execution_count": 10,
   "metadata": {},
   "outputs": [
    {
     "name": "stdout",
     "output_type": "stream",
     "text": [
      "\n",
      "           Coluna   Coef. Pears.   Confianca\n",
      "  ----------------   ------------   ---------\n",
      "               Id        -0.0096      0.5099\n",
      "           bairro        -0.0043      0.7691\n",
      "    tipo_vendedor         0.1246      0.0000\n",
      "          quartos         0.0208      0.1549\n",
      "           suites         0.0421      0.0040\n",
      "            vagas         0.0290      0.0472\n",
      "        area_util         0.0275      0.0599\n",
      "       area_extra         0.0011      0.9380\n",
      "     diferenciais         0.0077      0.6002\n",
      "    churrasqueira         0.0159      0.2772\n",
      "   estacionamento        -0.0064      0.6627\n",
      "          piscina         0.0068      0.6417\n",
      "       playground        -0.0122      0.4030\n",
      "           quadra        -0.0044      0.7636\n",
      "         s_festas         0.0075      0.6072\n",
      "          s_jogos        -0.0025      0.8619\n",
      "      s_ginastica        -0.0023      0.8749\n",
      "            sauna         0.0012      0.9356\n",
      "        vista_mar         0.0076      0.6011\n",
      "            preco         1.0000      0.0000\n",
      " tipo_Apartamento        -0.0090      0.5388\n",
      "        tipo_Casa         0.0090      0.5388\n"
     ]
    }
   ],
   "source": [
    "colunas = dados.columns\n",
    "\n",
    "print('\\n           Coluna   Coef. Pears.   Confianca')\n",
    "print('  ----------------   ------------   ---------')\n",
    "\n",
    "for col in colunas:\n",
    "    print( ' %16s   %12.4f   %9.4f' % (col, \n",
    "                                       pearsonr(dados[col],dados['preco'])[0], \n",
    "                                       pearsonr(dados[col],dados['preco'])[1]))\n",
    "   \n"
   ]
  },
  {
   "cell_type": "markdown",
   "metadata": {},
   "source": [
    "Por uma questão lógica, o preço do imóvel não possui relação com o 'Id'. Além disso, a variavel 'diferenciais' possui alguma relação e já contabiliza grande parte de algumas variaveis fornecidas. Portando, vou excluir do cálculo algumas categorias.\n",
    "\n",
    "O critério utilizado para exclusão dessas variaveis foi através de tentativa e erro, onde obtive melhores valores no resultado do RMSPE, métrica utilizada para avaliação na competição do Kaggle."
   ]
  },
  {
   "cell_type": "code",
   "execution_count": 11,
   "metadata": {},
   "outputs": [],
   "source": [
    "# Retirando algumas categorias dos dados:\n",
    "    \n",
    "dados = dados.drop(['Id','estacionamento', 'churrasqueira','playground','quadra',\n",
    "                    's_festas', 's_jogos','sauna','s_ginastica', 'tipo_vendedor' ],\n",
    "                    axis=1)\n",
    "\n",
    "dados_teste = dados_teste.drop(['Id','estacionamento', 'churrasqueira','playground',\n",
    "                                'quadra', 's_festas', 's_jogos','sauna', 's_ginastica', 'tipo_vendedor' ],\n",
    "                                axis=1)"
   ]
  },
  {
   "cell_type": "markdown",
   "metadata": {},
   "source": [
    "Para relacionar algumas categorias com o preco, fiz uma plotagem da média do preco utilizando grafico de barras:"
   ]
  },
  {
   "cell_type": "code",
   "execution_count": 12,
   "metadata": {},
   "outputs": [
    {
     "data": {
      "image/png": "[encoded data removed]",
      "text/plain": [
       "<Figure size 720x288 with 1 Axes>"
      ]
     },
     "metadata": {
      "needs_background": "light"
     },
     "output_type": "display_data"
    },
    {
     "data": {
      "image/png": "[encoded data removed]",
      "text/plain": [
       "<Figure size 720x288 with 1 Axes>"
      ]
     },
     "metadata": {
      "needs_background": "light"
     },
     "output_type": "display_data"
    },
    {
     "data": {
      "image/png": "[encoded data removed]",
      "text/plain": [
       "<Figure size 720x288 with 1 Axes>"
      ]
     },
     "metadata": {
      "needs_background": "light"
     },
     "output_type": "display_data"
    }
   ],
   "source": [
    "variaveis_discretas = ['quartos', 'vagas', 'vista_mar']\n",
    "\n",
    "for col in variaveis_discretas:\n",
    "    plt.figure(figsize = (10,4))\n",
    "    plt.title('Relação entre '+ col+' vs preco')\n",
    "    sns.barplot(x = col, y = 'preco', data = dados)\n",
    "    plt.show()\n",
    "   "
   ]
  },
  {
   "cell_type": "code",
   "execution_count": 13,
   "metadata": {},
   "outputs": [
    {
     "name": "stderr",
     "output_type": "stream",
     "text": [
      "/srv/conda/envs/notebook/lib/python3.6/site-packages/seaborn/distributions.py:2557: FutureWarning: `distplot` is a deprecated function and will be removed in a future version. Please adapt your code to use either `displot` (a figure-level function with similar flexibility) or `histplot` (an axes-level function for histograms).\n",
      "  warnings.warn(msg, FutureWarning)\n",
      "/srv/conda/envs/notebook/lib/python3.6/site-packages/seaborn/distributions.py:2557: FutureWarning: `distplot` is a deprecated function and will be removed in a future version. Please adapt your code to use either `displot` (a figure-level function with similar flexibility) or `histplot` (an axes-level function for histograms).\n",
      "  warnings.warn(msg, FutureWarning)\n",
      "/srv/conda/envs/notebook/lib/python3.6/site-packages/seaborn/distributions.py:2557: FutureWarning: `distplot` is a deprecated function and will be removed in a future version. Please adapt your code to use either `displot` (a figure-level function with similar flexibility) or `histplot` (an axes-level function for histograms).\n",
      "  warnings.warn(msg, FutureWarning)\n"
     ]
    },
    {
     "data": {
      "image/png": "[encoded data removed]",
      "text/plain": [
       "<Figure size 720x288 with 1 Axes>"
      ]
     },
     "metadata": {
      "needs_background": "light"
     },
     "output_type": "display_data"
    },
    {
     "data": {
      "image/png": "[encoded data removed]",
      "text/plain": [
       "<Figure size 720x288 with 1 Axes>"
      ]
     },
     "metadata": {
      "needs_background": "light"
     },
     "output_type": "display_data"
    },
    {
     "data": {
      "image/png": "[encoded data removed]",
      "text/plain": [
       "<Figure size 720x288 with 1 Axes>"
      ]
     },
     "metadata": {
      "needs_background": "light"
     },
     "output_type": "display_data"
    }
   ],
   "source": [
    "# Analisando as relações entre a densidade de algumas variaveis continuas\n",
    "\n",
    "variaveis_continuas = ['area_util', 'area_extra', 'preco']\n",
    "\n",
    "for col in variaveis_continuas:\n",
    "    \n",
    "    plt.figure(figsize = (10,4))\n",
    "    plt.title('Distribuição '+ col)\n",
    "    sns.distplot(dados[col]);\n"
   ]
  },
  {
   "cell_type": "markdown",
   "metadata": {},
   "source": [
    "É possível observar pelo gráfico que a há poucos imóveis na categoria area_extra acima de uns 200m pelo menos, e area_util acima de 500m aproximadamente:"
   ]
  },
  {
   "cell_type": "code",
   "execution_count": 14,
   "metadata": {},
   "outputs": [
    {
     "name": "stderr",
     "output_type": "stream",
     "text": [
      "/srv/conda/envs/notebook/lib/python3.6/site-packages/seaborn/distributions.py:2557: FutureWarning: `distplot` is a deprecated function and will be removed in a future version. Please adapt your code to use either `displot` (a figure-level function with similar flexibility) or `histplot` (an axes-level function for histograms).\n",
      "  warnings.warn(msg, FutureWarning)\n",
      "/srv/conda/envs/notebook/lib/python3.6/site-packages/seaborn/distributions.py:2557: FutureWarning: `distplot` is a deprecated function and will be removed in a future version. Please adapt your code to use either `displot` (a figure-level function with similar flexibility) or `histplot` (an axes-level function for histograms).\n",
      "  warnings.warn(msg, FutureWarning)\n"
     ]
    },
    {
     "data": {
      "image/png": "[encoded data removed]",
      "text/plain": [
       "<Figure size 576x432 with 1 Axes>"
      ]
     },
     "metadata": {
      "needs_background": "light"
     },
     "output_type": "display_data"
    },
    {
     "data": {
      "image/png": "[encoded data removed]",
      "text/plain": [
       "<Figure size 576x432 with 1 Axes>"
      ]
     },
     "metadata": {
      "needs_background": "light"
     },
     "output_type": "display_data"
    }
   ],
   "source": [
    "plt.figure(figsize = (8,6))\n",
    "plt.title('Distribuição da area_util')\n",
    "sns.distplot(dados[dados['area_util']<500]['area_util']);\n",
    "\n",
    "plt.figure(figsize = (8,6))\n",
    "plt.title('Distribuição da area_extra')\n",
    "sns.distplot(dados[dados['area_extra']<200]['area_extra']);"
   ]
  },
  {
   "cell_type": "markdown",
   "metadata": {},
   "source": [
    "Analisando agora a densidade das amostras pela categoria alvo que é 'preco':"
   ]
  },
  {
   "cell_type": "code",
   "execution_count": 15,
   "metadata": {},
   "outputs": [
    {
     "name": "stderr",
     "output_type": "stream",
     "text": [
      "/srv/conda/envs/notebook/lib/python3.6/site-packages/seaborn/distributions.py:2557: FutureWarning: `distplot` is a deprecated function and will be removed in a future version. Please adapt your code to use either `displot` (a figure-level function with similar flexibility) or `histplot` (an axes-level function for histograms).\n",
      "  warnings.warn(msg, FutureWarning)\n"
     ]
    },
    {
     "data": {
      "image/png": "[encoded data removed]",
      "text/plain": [
       "<Figure size 576x432 with 1 Axes>"
      ]
     },
     "metadata": {
      "needs_background": "light"
     },
     "output_type": "display_data"
    }
   ],
   "source": [
    "plt.figure(figsize = (8,6))\n",
    "plt.title('Distribuição do preco')\n",
    "sns.distplot(dados[dados['preco']<5*pow(10,6)]['preco']);"
   ]
  },
  {
   "cell_type": "markdown",
   "metadata": {},
   "source": [
    "É possível observar pelo gráfico que a maior parte das amostras estão entre 0 e 2x10^6. Contudo, com a métrica utilizada, eliminar os dados outliers que contém preço maior que 10^6 foi o melhor ajuste encontrado. Portando, para o treinamento, vou excluir os dados que passam dessa margem na categoria de preço, e também dos que passam 200m da categoria 'area_extra' e 500m da categoria 'area_util':"
   ]
  },
  {
   "cell_type": "code",
   "execution_count": 16,
   "metadata": {},
   "outputs": [],
   "source": [
    "\n",
    "dados = dados[dados['preco']<=pow(10,6)]\n",
    "dados = dados[dados['area_extra']<200]\n",
    "dados = dados[dados['area_util']<500]\n"
   ]
  },
  {
   "cell_type": "markdown",
   "metadata": {},
   "source": [
    "Categorias restantes para o treinamento dos dados:"
   ]
  },
  {
   "cell_type": "code",
   "execution_count": 17,
   "metadata": {},
   "outputs": [
    {
     "name": "stdout",
     "output_type": "stream",
     "text": [
      "Index(['bairro', 'quartos', 'suites', 'vagas', 'area_util', 'area_extra',\n",
      "       'diferenciais', 'piscina', 'vista_mar', 'preco', 'tipo_Apartamento',\n",
      "       'tipo_Casa'],\n",
      "      dtype='object')\n"
     ]
    }
   ],
   "source": [
    "colunas = dados.columns\n",
    "print(colunas)"
   ]
  },
  {
   "cell_type": "markdown",
   "metadata": {},
   "source": [
    "Separar x e y em conjunto teste e treinamento, dentro dos dados dados para treinamento:"
   ]
  },
  {
   "cell_type": "code",
   "execution_count": 18,
   "metadata": {},
   "outputs": [],
   "source": [
    "\n",
    "x = dados.drop(['preco'], axis=1).to_numpy()\n",
    "y = dados['preco'].to_numpy()\n",
    "\n",
    "x_TESTE = dados_teste.iloc[:,:].to_numpy()\n",
    "y_TESTE_Id = dados_teste.iloc[:,0] # dataframe com coluna Id para adicionar à resposta final no arquivo csv\n"
   ]
  },
  {
   "cell_type": "markdown",
   "metadata": {},
   "source": [
    "Utilizando a função train_test_split para separar o conjunto de dados em treino e teste para cálculo da precisão do modelo:"
   ]
  },
  {
   "cell_type": "code",
   "execution_count": 19,
   "metadata": {},
   "outputs": [],
   "source": [
    "\n",
    "x_treino, x_teste, y_treino, y_teste = train_test_split(\n",
    "    x,\n",
    "    y,\n",
    "    test_size=0.20, # separando 1/4 teste\n",
    "    random_state=0, # sorteio aleatorio\n",
    "    )\n"
   ]
  },
  {
   "cell_type": "markdown",
   "metadata": {},
   "source": [
    "Para ajustar a escala dos atributos, a melhor escolha encontrada foi utilizando QuantileTransformer, após ser testado com RobustScaler, e também com StandartScaler. Uma motivação para a escolha dessa escala é pelo bom tratamento de outliers e pelo resultado no RMSPE."
   ]
  },
  {
   "cell_type": "code",
   "execution_count": 20,
   "metadata": {},
   "outputs": [],
   "source": [
    "# Ajustar a escala dos atributos \n",
    "\n",
    "# Melhores resultados com:\n",
    "escala = QuantileTransformer()\n",
    "\n",
    "escala.fit(x_treino)\n",
    "\n",
    "x_treino = escala.transform(x_treino)\n",
    "x_teste = escala.transform(x_teste)\n",
    "\n",
    "# Ajustar a escala dos atributos do conjunto de TESTE dado no arquivo 'conjunto_de_teste.csv'\n",
    "x_TESTE = escala.transform(x_TESTE)"
   ]
  },
  {
   "cell_type": "markdown",
   "metadata": {},
   "source": [
    "Para a métrica dos dados, foi solicitado medir a raiz quadrada do erro percentual quadrático médio. \n",
    "Definindo a funcao rmspe():"
   ]
  },
  {
   "cell_type": "code",
   "execution_count": 21,
   "metadata": {},
   "outputs": [],
   "source": [
    "# Definindo métrica de cálculo RMSPE\n",
    "\n",
    "def rmspe(y, y_resposta):\n",
    "    value = np.sqrt(np.mean(np.square(((y - y_resposta) / y)), axis=0))\n",
    "    return value\n"
   ]
  },
  {
   "cell_type": "markdown",
   "metadata": {},
   "source": [
    "Agora, os dados estão prontos para serem modelados. Para achar o melhor modelo de acordo com a métrica escolhida, eu tentei fazer alguns tipos de regressão. Alguns exemplos são dados a seguir:"
   ]
  },
  {
   "cell_type": "code",
   "execution_count": 22,
   "metadata": {},
   "outputs": [
    {
     "name": "stdout",
     "output_type": "stream",
     "text": [
      "\n",
      " REGRESSOR LINEAR\n",
      "\n",
      " Métrica   DENTRO da amostra   FORA da amostra \n",
      " -------   -----------------   --------------- \n",
      "    rmse         107723.1192       108831.0893 \n",
      "      r2              0.7266            0.7209 \n",
      "   rmspe              4.2793            0.2689 \n"
     ]
    }
   ],
   "source": [
    "#--------------------------------------------------------------------\n",
    "# Treinar um regressor LINEAR\n",
    "#--------------------------------------------------------------------\n",
    "\n",
    "regressor_linear = LinearRegression()\n",
    "regressor_linear = regressor_linear.fit(x_treino,y_treino)\n",
    "\n",
    "y_resposta_treino = regressor_linear.predict(x_treino)\n",
    "y_resposta_teste = regressor_linear.predict(x_teste)\n",
    "\n",
    "# Calcular as métricas e comparar os resultados\n",
    "\n",
    "mse_in = mean_squared_error(y_treino, y_resposta_treino)\n",
    "rmse_in = math.sqrt(mse_in)\n",
    "r2_in = r2_score(y_treino, y_resposta_treino)\n",
    "rmspe_in = rmspe(y_treino, y_resposta_treino)\n",
    "\n",
    "mse_out = mean_squared_error(y_teste, y_resposta_teste)\n",
    "rmse_out = math.sqrt(mse_out)\n",
    "r2_out = r2_score(y_teste, y_resposta_teste)\n",
    "rmspe_out = rmspe(y_teste, y_resposta_teste)\n",
    "\n",
    "print('\\n REGRESSOR LINEAR\\n')\n",
    "\n",
    "print(' Métrica   DENTRO da amostra   FORA da amostra ')\n",
    "print(' -------   -----------------   --------------- ')\n",
    "\n",
    "print(' %7s   %17.4f   %15.4f ' % ( 'rmse' , rmse_in, rmse_out) )\n",
    "print(' %7s   %17.4f   %15.4f ' % ( 'r2' , r2_in, r2_out) )\n",
    "print(' %7s   %17.4f   %15.4f ' % ( 'rmspe' , rmspe_in, rmspe_out) )\n"
   ]
  },
  {
   "cell_type": "code",
   "execution_count": 23,
   "metadata": {},
   "outputs": [
    {
     "name": "stdout",
     "output_type": "stream",
     "text": [
      "\n",
      " REGRESSOR KNN\n",
      "\n",
      "  K    DENTRO da amostra   FORA da amostra \n",
      " ---   -----------------   --------------- \n",
      "  10              0.0634            0.2334 \n",
      "  12              0.0634            0.2333 \n",
      "  14              0.0634            0.2328 \n",
      "  16              0.0634            0.2322 \n",
      "  18              0.0634            0.2327 \n",
      "  20              0.0634            0.2327 \n",
      "  22              0.0634            0.2332 \n",
      "  24              0.0634            0.2335 \n",
      "  26              0.0634            0.2338 \n",
      "  28              0.0634            0.2341 \n",
      "  30              0.0634            0.2340 \n",
      "  32              0.0634            0.2348 \n",
      "  34              0.0634            0.2350 \n",
      "  36              0.0634            0.2350 \n",
      "  38              0.0634            0.2356 \n",
      "  40              0.0634            0.2362 \n"
     ]
    }
   ],
   "source": [
    "#-------------------------------------------------------------------------\n",
    "# Treinar e testar um regressor KNN para varios valores do parametro k\n",
    "#-------------------------------------------------------------------------\n",
    "\n",
    "print('\\n REGRESSOR KNN\\n')\n",
    "print('  K    DENTRO da amostra   FORA da amostra ')\n",
    "print(' ---   -----------------   --------------- ')\n",
    "\n",
    "for k in range(10,41,2):\n",
    "    regressor_knn = KNeighborsRegressor(\n",
    "        n_neighbors = k,\n",
    "        p=1,\n",
    "        n_jobs=4,\n",
    "        algorithm = 'kd_tree',\n",
    "        weights = 'distance', #zera os valores dentro da amostra\n",
    "        )\n",
    "    \n",
    "    regressor_knn = regressor_knn.fit(x_treino,y_treino)\n",
    "\n",
    "    y_resposta_treino = regressor_knn.predict(x_treino)\n",
    "    y_resposta_teste = regressor_knn.predict(x_teste)\n",
    "        \n",
    "    rmspe_in = rmspe(y_treino, y_resposta_treino)\n",
    "    rmspe_out = rmspe(y_teste, y_resposta_teste)\n",
    "\n",
    "    print(' %3d   %17.4f   %15.4f ' % ( k , rmspe_in, rmspe_out) ) "
   ]
  },
  {
   "cell_type": "code",
   "execution_count": 24,
   "metadata": {},
   "outputs": [
    {
     "name": "stdout",
     "output_type": "stream",
     "text": [
      "\n",
      " REGRESSOR POLINOMIAL DE GRAU K\n",
      "\n",
      "  K    Nº at   DENTRO da amostra   FORA da amostra \n",
      " ---   -----   -----------------   --------------- \n",
      "   1      12              4.2793            0.2689 \n",
      "   2      78              4.8512            0.2519 \n"
     ]
    }
   ],
   "source": [
    "#-------------------------------------------------------------------------\n",
    "# Treinar e testear um regressor POLINOMIAL para graus de 1 a 2\n",
    "#-------------------------------------------------------------------------\n",
    "\n",
    "print('\\n REGRESSOR POLINOMIAL DE GRAU K\\n')\n",
    "print('  K    Nº at   DENTRO da amostra   FORA da amostra ')\n",
    "print(' ---   -----   -----------------   --------------- ')\n",
    "\n",
    "for k in range(1,3):\n",
    "    pf = PolynomialFeatures(degree=k)\n",
    "    \n",
    "    pf = pf.fit(x_treino)\n",
    "    x_treino_poly = pf.transform(x_treino)\n",
    "    x_teste_poly = pf.transform(x_teste)\n",
    "    \n",
    "    regressor_linear = LinearRegression()\n",
    "    regressor_linear = regressor_linear.fit(x_treino_poly,y_treino)\n",
    "\n",
    "    y_resposta_treino = regressor_linear.predict(x_treino_poly)\n",
    "    y_resposta_teste = regressor_linear.predict(x_teste_poly)\n",
    "    \n",
    "    rmspe_in = rmspe(y_treino, y_resposta_treino)\n",
    "    rmspe_out = rmspe(y_teste, y_resposta_teste)\n",
    "    \n",
    "    n_atributos = x_treino_poly.shape[1]    \n",
    "\n",
    "    print(' %3d   %5d   %17.4f   %15.4f ' % ( k , n_atributos, rmspe_in, rmspe_out) ) \n"
   ]
  },
  {
   "cell_type": "code",
   "execution_count": 25,
   "metadata": {},
   "outputs": [
    {
     "name": "stdout",
     "output_type": "stream",
     "text": [
      "\n",
      " REGRESSOR SGD:\n",
      "\n",
      " Métrica   DENTRO da amostra   FORA da amostra \n",
      " -------   -----------------   --------------- \n",
      "    rmse         107723.2812       108825.3520 \n",
      "      r2              0.7266            0.7210 \n",
      "   rmspe              4.2764            0.2689 \n"
     ]
    }
   ],
   "source": [
    "#----------------------------------------------------------------------\n",
    "# Treinar e testar um regressor SGD com função de perda 'squared_loss'\n",
    "#----------------------------------------------------------------------\n",
    "\n",
    "print('\\n REGRESSOR SGD:\\n')\n",
    "\n",
    "regressor_sgd = SGDRegressor(\n",
    "    loss='squared_loss',\n",
    "    alpha=0,\n",
    "    penalty='elasticnet',\n",
    "    tol=1e-6,\n",
    "    l1_ratio= 0.2,\n",
    "    learning_rate='adaptive',\n",
    "    max_iter=1000000,\n",
    "    )\n",
    "\n",
    "regressor_sgd = regressor_sgd.fit(x_treino,y_treino)\n",
    "\n",
    "y_resposta_treino = regressor_sgd.predict(x_treino)\n",
    "y_resposta_teste = regressor_sgd.predict(x_teste)\n",
    "    \n",
    "print(' Métrica   DENTRO da amostra   FORA da amostra ')\n",
    "print(' -------   -----------------   --------------- ')\n",
    "\n",
    "mse_in = mean_squared_error(y_treino, y_resposta_treino)\n",
    "rmse_in = math.sqrt(mse_in)\n",
    "r2_in = r2_score(y_treino, y_resposta_treino)\n",
    "rmspe_in = rmspe(y_treino, y_resposta_treino)\n",
    "\n",
    "mse_out = mean_squared_error(y_teste, y_resposta_teste)\n",
    "rmse_out = math.sqrt(mse_out)\n",
    "r2_out = r2_score(y_teste, y_resposta_teste)\n",
    "rmspe_out = rmspe(y_teste, y_resposta_teste)\n",
    "\n",
    "print(' %7s   %17.4f   %15.4f ' % ( 'rmse' , rmse_in, rmse_out) )\n",
    "print(' %7s   %17.4f   %15.4f ' % ( 'r2' , r2_in, r2_out) )\n",
    "print(' %7s   %17.4f   %15.4f ' % ( 'rmspe' , rmspe_in, rmspe_out) )\n"
   ]
  },
  {
   "cell_type": "markdown",
   "metadata": {},
   "source": [
    "Contudo, os melhores resultados obtidos, foram encontrados com o regressorRandomForest ( RMSPE = 0.2244) e com o HistGradientBoosting  ( RMSPE = 0.2062) :"
   ]
  },
  {
   "cell_type": "code",
   "execution_count": 26,
   "metadata": {},
   "outputs": [
    {
     "name": "stdout",
     "output_type": "stream",
     "text": [
      "\n",
      " REGRESSOR RANDOM FOREST:\n",
      "\n",
      " Métrica   DENTRO da amostra   FORA da amostra \n",
      " -------   -----------------   --------------- \n",
      "   rmspe              3.4385            0.2241 \n"
     ]
    }
   ],
   "source": [
    "#----------------------------------------------------------------------\n",
    "# Treinar e testar um regressorRandomForest\n",
    "#----------------------------------------------------------------------\n",
    "\n",
    "print('\\n REGRESSOR RANDOM FOREST:\\n')\n",
    "\n",
    "rf = RandomForestRegressor(\n",
    "    n_estimators=2000,\n",
    "    random_state=0,\n",
    "    min_samples_leaf=2,\n",
    "    n_jobs=10,\n",
    "    criterion='mse',\n",
    "    verbose =0,\n",
    "    )\n",
    "\n",
    "rf.fit(x_treino, y_treino)\n",
    "\n",
    "y_resposta_treino = rf.predict(x_treino)\n",
    "y_resposta_teste = rf.predict(x_teste)\n",
    "\n",
    "print(' Métrica   DENTRO da amostra   FORA da amostra ')\n",
    "print(' -------   -----------------   --------------- ')\n",
    "rmspe_in = rmspe(y_treino, y_resposta_treino)\n",
    "rmspe_out = rmspe(y_teste, y_resposta_teste)\n",
    "print(' %7s   %17.4f   %15.4f ' % ( 'rmspe' , rmspe_in, rmspe_out) )\n",
    "\n",
    "# REGRESSOR RANDOM FOREST:\n",
    "# \n",
    "# Métrica   DENTRO da amostra   FORA da amostra \n",
    "# -------   -----------------   --------------- \n",
    "#    rmse          58252.8740        93237.5561 \n",
    "#      r2              0.9201            0.7952 \n",
    "#   MSLE:              0.0300            0.0400 \n",
    "#   rmspe              3.4555            0.2248 \n",
    " "
   ]
  },
  {
   "cell_type": "code",
   "execution_count": 27,
   "metadata": {},
   "outputs": [
    {
     "name": "stdout",
     "output_type": "stream",
     "text": [
      "\n",
      " REGRESSOR HIST GRADIENT BOOSTING:\n",
      "\n",
      " Métrica   DENTRO da amostra   FORA da amostra \n",
      " -------   -----------------   --------------- \n",
      "   rmspe              5.2947            0.2062 \n"
     ]
    }
   ],
   "source": [
    "#----------------------------------------------------------------------\n",
    "# Treinar e testar um regressor HistGradientBoosting\n",
    "#----------------------------------------------------------------------\n",
    "\n",
    "print('\\n REGRESSOR HIST GRADIENT BOOSTING:\\n')\n",
    "\n",
    "hgb = HistGradientBoostingRegressor(\n",
    "    l2_regularization=12.0,\n",
    "    max_iter=70,\n",
    "    learning_rate=0.1,\n",
    "    loss='least_absolute_deviation'\n",
    "    )\n",
    "\n",
    "hgb = hgb.fit(x_treino, y_treino)\n",
    "\n",
    "y_resposta_treino = hgb.predict(x_treino)\n",
    "y_resposta_teste = hgb.predict(x_teste)\n",
    "\n",
    "\n",
    "print(' Métrica   DENTRO da amostra   FORA da amostra ')\n",
    "print(' -------   -----------------   --------------- ')\n",
    "rmspe_in = rmspe(y_treino, y_resposta_treino)\n",
    "rmspe_out = rmspe(y_teste, y_resposta_teste)\n",
    "print(' %7s   %17.4f   %15.4f ' % ( 'rmspe' , rmspe_in, rmspe_out) )\n",
    "\n",
    "\n",
    "# REGRESSOR HIST GRADIENT BOOSTING - Resultados obtidos no Spyder:\n",
    " \n",
    "# Métrica   DENTRO da amostra   FORA da amostra \n",
    "# -------   -----------------   --------------- \n",
    "#    rmse          83208.8547        94002.0092 \n",
    "#      r2              0.8369            0.7918 \n",
    "#   MSLE:              0.0400            0.0400 \n",
    "#   rmspe              5.2947            0.2062 "
   ]
  },
  {
   "cell_type": "markdown",
   "metadata": {},
   "source": [
    "Como o modelo está com bons valores para a métrica solicitada RMSPE, passar pelo modelo os dados de teste fornecidos no arquivo 'conjunto_de_teste.csv' e salvar no dataframe 'out.csv' para enviar para a competição do Kaggle:"
   ]
  },
  {
   "cell_type": "code",
   "execution_count": 28,
   "metadata": {},
   "outputs": [],
   "source": [
    "#--------------------------------------------------------------------\n",
    "# Aplicar o modelo com RMSPE = 0.2062 no conjunto de teste:\n",
    "#----------------------------------------------------------------------\n",
    "\n",
    "y_resposta_TESTE = hgb.predict(x_TESTE)\n",
    "d = {'Id': y_TESTE_Id , 'preco': y_resposta_TESTE}\n",
    "df = pd.DataFrame(data=d)\n",
    "\n",
    "\n",
    "df.to_csv('out.csv', index=False)\n",
    "dados_output =  pd.read_csv(\"out.csv\")"
   ]
  }
 ],
 "metadata": {
  "kernelspec": {
   "display_name": "Python 3",
   "language": "python",
   "name": "python3"
  },
  "language_info": {
   "codemirror_mode": {
    "name": "ipython",
    "version": 3
   },
   "file_extension": ".py",
   "mimetype": "text/x-python",
   "name": "python",
   "nbconvert_exporter": "python",
   "pygments_lexer": "ipython3",
   "version": "3.6.11"
  }
 },
 "nbformat": 4,
 "nbformat_minor": 2
}
